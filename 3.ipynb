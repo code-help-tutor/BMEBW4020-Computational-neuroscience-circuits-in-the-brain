{
 "cells": [
  {
   "cell_type": "markdown",
   "metadata": {},
   "source": [
    "# PROBLEM \\#1 - $\\delta$-insensitive TDM\n",
    "\n",
    "The stimulus of a single-input single-output (SISO) TEM is modeled as\n",
    "a bandlimited function of the form\n",
    "$$\n",
    "u(t)= \\sum_{k=1}^{15} u(kT) \\frac{\\sin \\Omega (t-kT)}{\\Omega (t-kT)},\n",
    "$$\n",
    "where $\\Omega = 2 \\pi \\cdot 25$ Hz and $T=\\frac{\\pi}{\\Omega}$.\n",
    "\n",
    "Assume that the TEM describes an ASDM. Generate the trigger times in the time interval $[-3T, 15T]$. Parameters:\n",
    "$C=0.3, \\delta=5e-3$, and choose the injected current to be $b = (C*\\delta*\\Omega/\\pi + 1)$ (it is instructive think why this choice of $b$ makes sense).\n",
    "\n",
    "### Tasks\n",
    "1. Implement a threshold insensitive ($\\delta$-insensitive) decoding algorithm for ASDM.\n",
    "2. Plot the recovery error (difference between the input stimulus and the recovered waveform) and calculate the Signal-to-Noise ratio of the recovery in decibel (dB).\n",
    "3. Compare the $\\delta$-insensitive recovery result with the $\\delta$-sensitive result (implementation of $\\delta$-sensitive algorithm can be found in lecture notebook).\n",
    "\n",
    "\n",
    "### Note\n",
    "* The derivation of $\\delta$-insensitive TDM decoding is available in **Chapter 6**. Highly recommend reading through the entire chapter thoroughly as it will **massively** help with the following chapters and lectures.\n",
    "\n",
    "* Whole-signal signal-to-Noise ratio (SNR) of the recovery can be calculated for signal $u(t)$ and recovered signal $u_{rec}(t)$ as \n",
    "$\n",
    "SNR = 10\\log_{10}\\left(\\frac{mean(u^2)}{mean((u-u_{rec})^2)}\\right)\n",
    "$\n",
    "the result will be in dB\n"
   ]
  },
  {
   "cell_type": "markdown",
   "metadata": {},
   "source": [
    "# Problem 2 - Derivation of TEM/TDM algorithm for HH with dendritic processing\n",
    "In this problem you are asked to derive and implement a TEM/TDM algorithm for the Hodgkin-Huxley neuron (BSG in the figure below) with dendritic processing modeled as a linear filter ($h(t)$ in the figure below).\n",
    "\n",
    "The encoding circuit consisting of a filter in cascade with a HH neuron:\n",
    "   <center><img src=\"./filter-bsg.png\" width=650/></center>\n",
    "\n",
    "In the figure above, the external current injected into the neuron is given as \n",
    "$$\n",
    "I_{ext}(t) = b + \\underbrace{\\left( u \\ast h \\right)(t)}_{v(t)}\n",
    "$$\n",
    "where $b$ is the injected current (also written as $I$ in other texts).\n",
    "\n",
    "\n",
    "### Tasks\n",
    "1. Generate the impulse response of $h(t)$ and visualize.\n",
    "2. With $b=20$, encode a randomly generated input stimulus (from Problem 1) using a reduced PIF neuron that is equivalent to the HH neuron model. \n",
    "3. Derive an algorithm to recover the signal $u(t)$ from the recieved spikes.\n",
    "    1. Writing down the $t$-transform of the encoding circuit shown above in an inner product form.\n",
    "    2. Find the time decoding machine (TDM) that recovers the signal $u$. Particularly, provide forms for $q_k$ and $[G]_{lk}$. Please write down the important procedures.\n",
    "3. Recover the signal $u(t)$ from output spike times of the reduced PIF and show encoding error and SNR (as in Problem \\#1 above)\n",
    "\n",
    "\n",
    "### Stimulus and Filter\n",
    "Use the stimulus $u(t)$ from Problem \\#1, and the filter $h$ is \n",
    "$$\n",
    "h(t)= 3 \\cdot 120 \\cdot \\mbox{exp}\\left(-100 t\\right)\\left(\\frac{(150 t)^2}{2!}-\\frac{(150t)^4}{4!}\\right) \\cdot \\mathbb{1}_{t\\ge 0}\n",
    "$$\n",
    "note that $\\mathbb{1}_{t\\ge 0}$ is also known as the Heaviside Step function which ensures that the filter $h(t)$ is causal.\n",
    "\n",
    "### Note\n",
    "You know the filter $h$ and filtered output $v(t) = (u \\ast h)(t)$, but you _do not_ know $u(t)$. You can read the spike times, and you want to recover $u(t)$ from the spikes."
   ]
  },
  {
   "cell_type": "markdown",
   "metadata": {},
   "source": [
    "# Problem 1"
   ]
  },
  {
   "cell_type": "code",
   "execution_count": null,
   "metadata": {},
   "outputs": [],
   "source": [
    "%matplotlib inline\n",
    "import numpy as np\n",
    "np.random.seed(0)  # fix random seed\n",
    "import matplotlib.pyplot as plt\n",
    "\n",
    "import typing as tp\n",
    "from scipy import signal\n",
    "from scipy.linalg import circulant\n",
    "from scipy.integrate import cumulative_trapezoid as cumtrapz\n",
    "from compneuro.utils.phase_response import PIF, iPRC\n",
    "from compneuro.utils.neuron import limit_cycle\n",
    "from compneuro.utils.signal import spike_detect, spike_detect_local\n",
    "from compneuro.neurons.hodgkin_huxley import HodgkinHuxley\n",
    "from compneuro.utils.signal import convolve\n",
    "\n",
    "plt.rcParams[\"figure.figsize\"] = [10, 5]\n",
    "plt.rcParams[\"figure.dpi\"] = 100"
   ]
  },
  {
   "cell_type": "code",
   "execution_count": null,
   "metadata": {},
   "outputs": [],
   "source": [
    "# TODO: the stimulus ut\n",
    "def ut(t,T, omega):\n",
    "    return np.nan"
   ]
  },
  {
   "cell_type": "markdown",
   "metadata": {},
   "source": [
    "### Part 1. Implement a threshold insensitive ($\\delta$-insensitive) decoding algorithm for ASDM."
   ]
  },
  {
   "cell_type": "code",
   "execution_count": null,
   "metadata": {},
   "outputs": [],
   "source": [
    "# TODO: implement ASDM\n",
    "def integrate_step_asdm():\n",
    "    return np.nan\n",
    "\n",
    "def asdm_encode():\n",
    "    return np.nan"
   ]
  },
  {
   "cell_type": "code",
   "execution_count": null,
   "metadata": {},
   "outputs": [],
   "source": [
    "# TODO: endode with ASDM\n",
    "dt = 1e-6\n",
    "# T = np.pi/omega\n",
    "# t = np.arange(-3*T, 15*T, dt)\n",
    "# u = ut(t,T,omega)\n",
    "# tk = []"
   ]
  },
  {
   "cell_type": "markdown",
   "metadata": {},
   "source": [
    "**Disclaimer** implementation of $\\delta$-sensitive algorithm can be found in lecture notebook."
   ]
  },
  {
   "cell_type": "code",
   "execution_count": null,
   "metadata": {},
   "outputs": [],
   "source": [
    "# TODO: Recovery \n",
    "\n",
    "# functions for computing the matrices, you can (and probably should) add more\n",
    "def compute_G(t, tk):\n",
    "#     return G\n",
    "def compute_q(t, tk):\n",
    "#     return q\n",
    "\n",
    "\n",
    "def asdm_decoder_sen(t, tk):\n",
    "    # TODO: find the sensitive case\n",
    "    return np.nan\n",
    "\n",
    "def asdm_decoder_insen(t, tk):\n",
    "    q = compute_q(t, tk)\n",
    "    G = compute_G(t, tk)\n",
    "    # TODO: implement the insensitive case\n",
    "    return np.nan\n",
    "\n",
    "c_insens, u_rec_insens = np.NaN # delta-insensitive recovery coefficients"
   ]
  },
  {
   "cell_type": "code",
   "execution_count": null,
   "metadata": {},
   "outputs": [],
   "source": [
    "# TODO: Plot recovery (in the same plot with the original)"
   ]
  },
  {
   "cell_type": "markdown",
   "metadata": {},
   "source": [
    "### Part 2: Plot the recovery SNR"
   ]
  },
  {
   "cell_type": "code",
   "execution_count": null,
   "metadata": {},
   "outputs": [],
   "source": [
    "# Compute SNR \n",
    "# the SNR formula given in the question prompt is for whole-signal SNR\n",
    "# which is a single value\n",
    "# for SNR vs t plot use the function one below \n",
    "def SNR_f(u, u_rec):\n",
    "    return 10 * np.log10(u**2 / (u-u_rec)**2)"
   ]
  },
  {
   "cell_type": "code",
   "execution_count": null,
   "metadata": {
    "collapsed": true
   },
   "outputs": [],
   "source": [
    "# TODO: plot the error and SNR as function of time"
   ]
  },
  {
   "cell_type": "markdown",
   "metadata": {},
   "source": [
    "### Part 3: Compare the $\\delta$-insensitive recovery result with the $\\delta$-sensitive result "
   ]
  },
  {
   "cell_type": "code",
   "execution_count": null,
   "metadata": {},
   "outputs": [],
   "source": [
    "# TODO: implement delta-sensitive case\n",
    "\n",
    "c_sens, u_rec_sens = np.NaN # delta-sensitive recovery coefficients"
   ]
  },
  {
   "cell_type": "code",
   "execution_count": null,
   "metadata": {},
   "outputs": [],
   "source": [
    "# TODO: Compare between sensitive and insensitive, \n",
    "# plot both outputs in same plot with original \n",
    "# (make use of legends and labels, feel free to adjust linewidth)\n",
    "\n",
    "# plot both SNR in the same plot"
   ]
  },
  {
   "cell_type": "markdown",
   "metadata": {},
   "source": [
    "# Problem 2"
   ]
  },
  {
   "cell_type": "markdown",
   "metadata": {},
   "source": [
    "### Part 1. Generate and show the inpulse response of the filter\n",
    "***HINT:*** *For this problem, pay attention to singal time vector, filter time vector and their convolution output lengths.*"
   ]
  },
  {
   "cell_type": "code",
   "execution_count": null,
   "metadata": {},
   "outputs": [],
   "source": [
    "b = 20"
   ]
  },
  {
   "cell_type": "code",
   "execution_count": null,
   "metadata": {},
   "outputs": [],
   "source": [
    "T_1 = 0\n",
    "T_2 = 0.1\n",
    "t_filt = np.arange(T_1, T_2, dt)\n",
    "a = 120\n",
    "h = (\n",
    "    3\n",
    "    * a\n",
    "    * np.exp(-a * t_filt)\n",
    "    * (\n",
    "        (a * t_filt) ** 2 / np.math.factorial(2)\n",
    "        - (a * t_filt) ** 4 / np.math.factorial(4)\n",
    "    )\n",
    ")  # dendritic filter"
   ]
  },
  {
   "cell_type": "code",
   "execution_count": null,
   "metadata": {},
   "outputs": [],
   "source": [
    "# TODO: plot the inpulse response"
   ]
  },
  {
   "cell_type": "markdown",
   "metadata": {},
   "source": [
    "### Part 2. Encode a randomly generated input stimulus (from Problem 1) using a reduced PIF neuron that is equivalent to the HH neuron model. "
   ]
  },
  {
   "cell_type": "code",
   "execution_count": null,
   "metadata": {},
   "outputs": [],
   "source": [
    "# TODO: filter signal\n",
    "v = np.NaN"
   ]
  },
  {
   "cell_type": "code",
   "execution_count": null,
   "metadata": {},
   "outputs": [],
   "source": [
    "# TODO: compute iPRC at given bias\n",
    "hh = HodgkinHuxley()\n",
    "\n",
    "# Plot the iPRC"
   ]
  },
  {
   "cell_type": "code",
   "execution_count": null,
   "metadata": {},
   "outputs": [],
   "source": [
    "# TODO: Compute PIF from iPRC\n",
    "pif_spike_time =  np.nan"
   ]
  },
  {
   "cell_type": "markdown",
   "metadata": {},
   "source": [
    "### Part 3. Recover the signal $u(t)$ from the recieved spikes."
   ]
  },
  {
   "cell_type": "markdown",
   "metadata": {},
   "source": [
    "**TODO: A.** Write down the t-transform of the encoding circuit in an inner product form"
   ]
  },
  {
   "cell_type": "markdown",
   "metadata": {},
   "source": [
    "**TODO: B.** Write down $q_k$ and $[G]_{lk}$, as well the important procedures/steps to obtain $u(t)$ given $h$ (in equation form would suffice)"
   ]
  },
  {
   "cell_type": "markdown",
   "metadata": {},
   "source": [
    "### Part 4. Recover the signal $u(t)$ from PIF spike times and show the statistics"
   ]
  },
  {
   "cell_type": "code",
   "execution_count": null,
   "metadata": {},
   "outputs": [],
   "source": [
    "# TODO:implement PIF decoder\n",
    "\n",
    "# def compute_G():\n",
    "# def compute_q():"
   ]
  },
  {
   "cell_type": "code",
   "execution_count": null,
   "metadata": {},
   "outputs": [],
   "source": [
    "# TODO: recover u(t)\n",
    "c_rec, u_rec = np.nan"
   ]
  },
  {
   "cell_type": "code",
   "execution_count": null,
   "metadata": {},
   "outputs": [],
   "source": [
    "# TODO: plot recovery result (in same plot as original), and SNR (as fn of time)\n",
    "# The recovery may be bad at the boundary because all signals are finite, \n",
    "# you can focus on the middle part of the signal for comparison."
   ]
  }
 ],
 "metadata": {
  "kernelspec": {
   "display_name": "Python 3 (ipykernel)",
   "language": "python",
   "name": "python3"
  },
  "language_info": {
   "codemirror_mode": {
    "name": "ipython",
    "version": 3
   },
   "file_extension": ".py",
   "mimetype": "text/x-python",
   "name": "python",
   "nbconvert_exporter": "python",
   "pygments_lexer": "ipython3",
   "version": "3.9.13"
  }
 },
 "nbformat": 4,
 "nbformat_minor": 4
}
