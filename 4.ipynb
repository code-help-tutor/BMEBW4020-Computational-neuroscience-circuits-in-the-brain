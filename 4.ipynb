{
 "cells": [
  {
   "cell_type": "markdown",
   "metadata": {},
   "source": [
    "## Problem 1:\n",
    "\n",
    "Consider the following Encoding circuit with 2 Wilson neurons with feedforward, feedback and cross-feedback:\n",
    "    <div><img src=\"circuit.png\" width=550/></div>\n",
    "    \n",
    "$h^1$ and $h^2$ refer to feedforward filters; $h^{11}$ and $h^{22}$ refer to feedback filters; $H$ refer to summation-cross-feedback filter. \n",
    "\n",
    "Assume that the BSGs in the figure are PIFs of two different Wilson neurons.\n",
    "\n",
    "### Questions:\n",
    "\n",
    "1. Write down the $t$-transform of the _Encoding Circuit_ shown above in an inner product form.\n",
    "2. Find an algorithm that recovers the signal $u$. Provide detailed procedures of derivation, such as how to calculate $q, G, c$ and how to recover the signal.\n",
    "3. Under what conditions can the signal $u$ be perfertly recovered? Note that the analytical solution is not required here. Just use your words to briefly describe your understanding, such as from the perspectives of $u$ and the observed spikes.\n",
    "\n",
    "Note that this problem tests your understanding of neural encoding and decoding. It does **NOT** require you to write any code. \n",
    "**Write your answer in markdown.**"
   ]
  },
  {
   "cell_type": "markdown",
   "metadata": {},
   "source": [
    "## Problem 2\n",
    "\n",
    "<center><img src=\"FilterASDM.png\" align=\"center\" width=\"400\"/></center>\n",
    " \n",
    "In this problem you are asked to derive and implement a TEM/TDM algorithm for an `ONOFFIAF` neuron (refer to Chapter 8, ON-OFF IAF Neurons with Feedback) with dendritic processing modeled as a linear filter ($h(t)$ in the figure below)."
   ]
  },
  {
   "cell_type": "code",
   "execution_count": null,
   "metadata": {},
   "outputs": [],
   "source": [
    "# import libraries\n",
    "import numpy as np\n",
    "from scipy.integrate import cumulative_trapezoid as cumtrapz\n",
    "from compneuro.utils.signal import convolve\n",
    "import matplotlib.pyplot as plt\n",
    "import typing as tp\n",
    "\n",
    "np.random.seed(0)"
   ]
  },
  {
   "cell_type": "code",
   "execution_count": null,
   "metadata": {},
   "outputs": [],
   "source": [
    "def stimulus(t, omega, s):\n",
    "    out = np.zeros_like(t)\n",
    "    omega_pi = omega / np.pi\n",
    "    for k in range(len(s)):\n",
    "        out += s[k] * omega_pi * np.sinc(omega_pi * t - k)\n",
    "    return out / np.max(np.abs(out))\n",
    "\n",
    "\n",
    "def signal_generator(t, samples, sample_times, omega):\n",
    "    signal = np.zeros_like(t)\n",
    "    for s, st in zip(samples, sample_times):\n",
    "        signal += omega / np.pi * s * np.sinc(omega / np.pi * (t - st))\n",
    "    return signal"
   ]
  },
  {
   "cell_type": "code",
   "execution_count": null,
   "metadata": {},
   "outputs": [],
   "source": [
    "dt = 1e-5  # time step\n",
    "ds = 10  # downsampling factor\n",
    "t = np.arange(-0.1, 0.25, dt)  # simulation time\n",
    "omega = 2 * np.pi * 50  # cutoff frequency\n",
    "N = np.floor(t[-1] / np.pi * omega).astype(int)  # number of sample points\n",
    "u = stimulus(t, omega, np.random.rand(N) - 0.5)  # randomly generated input stimulus"
   ]
  },
  {
   "cell_type": "code",
   "execution_count": null,
   "metadata": {},
   "outputs": [],
   "source": [
    "T_1 = 0\n",
    "T_2 = 0.1\n",
    "t_filt = np.arange(T_1, T_2, dt)\n",
    "a = 180\n",
    "h = (\n",
    "    3\n",
    "    * a\n",
    "    * np.exp(-a * t_filt)\n",
    "    * (\n",
    "        (a * t_filt) ** 3 / np.math.factorial(3)\n",
    "        - (a * t_filt) ** 5 / np.math.factorial(5)\n",
    "    )\n",
    ")  # filter impulse response"
   ]
  },
  {
   "cell_type": "code",
   "execution_count": null,
   "metadata": {},
   "outputs": [],
   "source": [
    "# convolve input stimulus with filter"
   ]
  },
  {
   "cell_type": "code",
   "execution_count": null,
   "metadata": {},
   "outputs": [],
   "source": [
    "# setup for G matrix"
   ]
  },
  {
   "cell_type": "code",
   "execution_count": null,
   "metadata": {},
   "outputs": [],
   "source": [
    "# code up encode, decode, compute_q, compute_G functions\n",
    "# Class FilterONOFFIAF:"
   ]
  },
  {
   "cell_type": "code",
   "execution_count": null,
   "metadata": {},
   "outputs": [],
   "source": [
    "# instantiate model\n",
    "onoffiaf_params = dict(delta=0.01, kappa=1, b=1, omega=omega)\n",
    "\n",
    "\n",
    "def own_filter(t, tk):\n",
    "    td = t - tk\n",
    "    td = td[td>0]\n",
    "    return np.sum(0.1 * np.exp(-td/0.01))\n",
    "\n",
    "def cross_filter(t, tk):\n",
    "    td = t - tk\n",
    "    td = td[td>0]\n",
    "    return np.sum(0.075 * np.exp(-td/0.015))\n",
    "\n",
    "\n",
    "onoffiaf = FilterONOFFIAF(own_filter=own_filter, cross_filter=cross_filter, params=onoffiaf_params)"
   ]
  },
  {
   "cell_type": "code",
   "execution_count": null,
   "metadata": {},
   "outputs": [],
   "source": [
    "# encode"
   ]
  },
  {
   "cell_type": "code",
   "execution_count": null,
   "metadata": {},
   "outputs": [],
   "source": [
    "# decode"
   ]
  },
  {
   "cell_type": "code",
   "execution_count": null,
   "metadata": {},
   "outputs": [],
   "source": [
    "# plot results and SNR \n",
    "\n",
    "# For results, in the same plot include the original and recovered signals, \n",
    "# use different colors/linwidth if have to\n",
    "\n",
    "# SNR vs t in another plot"
   ]
  }
 ],
 "metadata": {
  "kernelspec": {
   "display_name": "Python 3 (ipykernel)",
   "language": "python",
   "name": "python3"
  },
  "language_info": {
   "codemirror_mode": {
    "name": "ipython",
    "version": 3
   },
   "file_extension": ".py",
   "mimetype": "text/x-python",
   "name": "python",
   "nbconvert_exporter": "python",
   "pygments_lexer": "ipython3",
   "version": "3.9.13"
  }
 },
 "nbformat": 4,
 "nbformat_minor": 4
}
