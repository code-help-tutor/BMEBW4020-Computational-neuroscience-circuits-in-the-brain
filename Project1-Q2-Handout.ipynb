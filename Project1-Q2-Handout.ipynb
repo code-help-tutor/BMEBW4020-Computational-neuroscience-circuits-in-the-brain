{
 "cells": [
  {
   "cell_type": "markdown",
   "id": "0efbbb6d",
   "metadata": {},
   "source": [
    "In this problem you are asked to derive and implement a TEM/TDM algorithm for an ASDM with feedback, as depicted in the figure below:\n",
    "\n",
    "<center><img src=\"./ASDMf.png\" width=650/></center>\n",
    "\n",
    "\n",
    "### Stimulus and Filter\n",
    "Generate a random, normalized stimulus $u(t)$ with $\\max(\\|u(t)\\|) = 1$, use a sinc basis. \n",
    "The filter $h$ is given as:\n",
    "$$\n",
    "h(t)= 0.01 \\cdot \\mbox{exp}\\left(-100 t\\right)\\cdot \\mathbb{1}_{t\\ge 0}\n",
    "$$\n",
    "Note that $\\mathbb{1}_{t\\ge 0}$ is also known as the Heaviside Step function which ensures that the filter $h(t)$ is causal.\n",
    "\n",
    "## Task\n",
    "\n",
    "Encode and decode the generated stimulus $u$ with the model specified above. Plot your results in the time-domain along with a corresponding SNR plot. "
   ]
  },
  {
   "cell_type": "code",
   "execution_count": null,
   "id": "f01f93eb",
   "metadata": {},
   "outputs": [],
   "source": [
    "# import libraries\n",
    "import numpy as np\n",
    "from scipy.integrate import cumulative_trapezoid as cumtrapz\n",
    "import matplotlib.pyplot as plt\n",
    "import typing as tp\n",
    "np.random.seed(0)"
   ]
  },
  {
   "cell_type": "code",
   "execution_count": null,
   "id": "af92c3fa",
   "metadata": {},
   "outputs": [],
   "source": [
    "# define stimulus space\n",
    "def sinc_basis(t, sk, omega):\n",
    "    if np.isscalar(sk):\n",
    "        return omega / np.pi * np.sinc(omega / np.pi * (t - sk))\n",
    "    return omega / np.pi * np.sinc(omega / np.pi * (t[None, :] - sk[:, None]))\n",
    "\n",
    "\n",
    "def stimulus(t, omega, ck, normalize=True):\n",
    "    \"\"\"\n",
    "    Generate a stimulus as a sum of sinc functions\n",
    "    \n",
    "    Arguments:\n",
    "        t: 1D array of the time period for the resultant stimulus\n",
    "        omega: scalar frequency of the sinc basis functions\n",
    "        s: 1D array of amplitudes for the sinc functions\n",
    "    \n",
    "    Returns:\n",
    "        1D array containing the stimulus\n",
    "    \"\"\"\n",
    "    out = np.zeros_like(t)\n",
    "    T = np.pi / omega  # sampling interval at nyquist rate\n",
    "    sk = np.arange(len(ck)) * T  # uniform sample at nyquist rate\n",
    "    out = ck @ sinc_basis(t, sk, omega)\n",
    "    if normalize:\n",
    "        return out / np.max(np.abs(out))\n",
    "    return out"
   ]
  },
  {
   "cell_type": "code",
   "execution_count": null,
   "id": "ec600e83",
   "metadata": {},
   "outputs": [],
   "source": [
    "# define ASDM model"
   ]
  },
  {
   "cell_type": "code",
   "execution_count": null,
   "id": "202bacf3",
   "metadata": {},
   "outputs": [],
   "source": [
    "# create stimulus\n",
    "f = 50  # Hertz\n",
    "omega = 2 * np.pi * f\n",
    "T = np.pi / omega\n",
    "dt = 1e-5  # seconds\n",
    "ds = 150 # downsampling factor\n",
    "t = np.arange(0, 20 * T, dt)\n",
    "c = np.random.rand(15) - 0.5\n",
    "u = stimulus(t, omega, c)"
   ]
  },
  {
   "cell_type": "code",
   "execution_count": null,
   "id": "871f4c54",
   "metadata": {},
   "outputs": [],
   "source": [
    "# instantiate model"
   ]
  },
  {
   "cell_type": "code",
   "execution_count": null,
   "id": "228530c2",
   "metadata": {},
   "outputs": [],
   "source": [
    "# encode stimulus"
   ]
  },
  {
   "cell_type": "code",
   "execution_count": null,
   "id": "e682f1ec",
   "metadata": {},
   "outputs": [],
   "source": [
    "# decode stimulus"
   ]
  },
  {
   "cell_type": "code",
   "execution_count": null,
   "id": "9ecafb77",
   "metadata": {},
   "outputs": [],
   "source": [
    "# plot recovery results"
   ]
  }
 ],
 "metadata": {
  "kernelspec": {
   "display_name": "Python 3 (ipykernel)",
   "language": "python",
   "name": "python3"
  },
  "language_info": {
   "codemirror_mode": {
    "name": "ipython",
    "version": 3
   },
   "file_extension": ".py",
   "mimetype": "text/x-python",
   "name": "python",
   "nbconvert_exporter": "python",
   "pygments_lexer": "ipython3",
   "version": "3.8.8"
  }
 },
 "nbformat": 4,
 "nbformat_minor": 5
}
