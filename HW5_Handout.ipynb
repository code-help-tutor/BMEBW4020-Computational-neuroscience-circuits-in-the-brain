{
 "cells": [
  {
   "cell_type": "markdown",
   "id": "7ca1f61b",
   "metadata": {},
   "source": [
    "## PROBLEM \\#1:\n",
    "The dendritic processing circuit in the figure below is consists of a linear filter with impulse response $h_1(t)$ in cascade with a Biophysical Spike Generator (BSG) which is taken to be an Ideal Integrate-and-fire Neuron; the BSG has a feedback loop that is modeled as a linear filter with impulse response $h_2(t)$. The input $u(t)$ is in the *trignometirc polynomial* space.\n",
    "\n",
    "<center>\n",
    "    <img src='fig0.png' width=500></img>\n",
    "</center>\n",
    "\n",
    "1. Write the t-transform for the filter-BSG-feedback circuit in inner product form\n",
    "2. Find an algorithem for identifying the impulse response of the two filters, $h_1(t)$ and $h_2(t)$, using stimuli in the _trignometric polynomial_ space. Describe the process and write out any relavent equation in sufficient detail; clearly define additional notations if needed and please stay consistent (and please try to use notations consistent with the chapters). \n",
    "\n",
    "No code is required and please use markdown for your answer."
   ]
  },
  {
   "cell_type": "markdown",
   "id": "ef539e2b",
   "metadata": {},
   "source": [
    "## PROBLEM \\#2:\n",
    "The dendritic processing filter in figure below is modeled with a causal linear kernel\n",
    "$$\n",
    "h(t)= c \\cdot e^{-\\alpha t} \\left[  \\frac{(\\alpha t)^3}{3!} -\n",
    "\\frac{(\\alpha t)^5}{5!}\\right]\n",
    "$$\n",
    "with \n",
    "$t\\in[0,0.1]$ [s], $c = 3$ and $\\alpha=200$.\n",
    "\n",
    "\n",
    "<center>\n",
    "    <img src='fig1.png' width=700></img>\n",
    "</center>\n",
    "\n",
    "\n",
    "The Biophysical Spike Generator (BSG) in the figure above is taken to be an Asynchronous Sigma Delta Modulator (ASDM). Identify the impulse response of the filter using random stimuli in the _trignometric polynomial_ basis with bandwidth $\\Omega = 2\\pi \\cdot 25$ rad/s, $\\Omega = 2\\pi \\cdot 50$ rad/s and $\\Omega = 2\\pi \\cdot 100$ rad/s.\n",
    "\n",
    "**Plot:**\n",
    "1. the input signal $u=u(t)$ and its Fourier  transform.\n",
    "2. Find the best recovery of the filter projected onto the space of input signals. Show the Fourier transform of the recovered filter.\n",
    "3. Compute the MSE between $h$ and the recovered filters for $t\\in[0, 0.1]$s."
   ]
  },
  {
   "cell_type": "code",
   "execution_count": null,
   "id": "fc8f3ab2",
   "metadata": {},
   "outputs": [],
   "source": [
    "# import libraries\n",
    "import numpy as np\n",
    "import matplotlib.pyplot as plt\n",
    "import typing as tp\n",
    "from scipy import signal, fft\n",
    "from scipy.integrate import cumtrapz\n",
    "\n",
    "from compneuro.utils.trig_poly import (\n",
    "    get_coeffs_from_signal,\n",
    "    get_signal_from_coeffs,\n",
    "    random_trig_signal,\n",
    ")\n",
    "\n",
    "np.random.seed(0)  # set random seed"
   ]
  },
  {
   "cell_type": "code",
   "execution_count": null,
   "id": "b2d48c29",
   "metadata": {},
   "outputs": [],
   "source": [
    "dt = 1e-5  # time step[s]\n",
    "L = 20  # set the order of the space (number of exponentials)\n",
    "f = 25  # set the input signal bandwidth, [Hz]\n",
    "W = 2 * np.pi * f  # calculate the bandwidth in radians\n",
    "T = 2 * np.pi * L / W  # calculate the period of the input signal\n",
    "t = np.arange(-T / 2, T / 2, dt)  # set the time course of the signal"
   ]
  },
  {
   "cell_type": "code",
   "execution_count": null,
   "id": "ef1f0840",
   "metadata": {},
   "outputs": [],
   "source": [
    "# generate input signals"
   ]
  },
  {
   "cell_type": "code",
   "execution_count": null,
   "id": "89b98b8a",
   "metadata": {},
   "outputs": [],
   "source": [
    "# specify the filter h\n",
    "T1, T2 = 0, 0.1  # specify T1 and T2\n",
    "a, c = 200, 3.0  # set the filter parameter\n",
    "t_filt = np.arange(-T / 4, T * 3 / 4, dt)  # set the time course of the filter, [s]"
   ]
  },
  {
   "cell_type": "code",
   "execution_count": null,
   "id": "ff55a3f5",
   "metadata": {},
   "outputs": [],
   "source": [
    "# Specify ASDM parameters\n",
    "delta = 0.001  # threshold\n",
    "bias = 1.0  # bias\n",
    "C = 1.0  # capacitance"
   ]
  },
  {
   "cell_type": "code",
   "execution_count": null,
   "id": "dcc64919",
   "metadata": {},
   "outputs": [],
   "source": [
    "# encode"
   ]
  },
  {
   "cell_type": "code",
   "execution_count": null,
   "id": "41451ef5",
   "metadata": {},
   "outputs": [],
   "source": [
    "# identify"
   ]
  },
  {
   "cell_type": "code",
   "execution_count": null,
   "id": "94f0e533",
   "metadata": {},
   "outputs": [],
   "source": [
    "# plot results"
   ]
  }
 ],
 "metadata": {
  "kernelspec": {
   "display_name": "Python 3 (ipykernel)",
   "language": "python",
   "name": "python3"
  },
  "language_info": {
   "codemirror_mode": {
    "name": "ipython",
    "version": 3
   },
   "file_extension": ".py",
   "mimetype": "text/x-python",
   "name": "python",
   "nbconvert_exporter": "python",
   "pygments_lexer": "ipython3",
   "version": "3.9.13"
  }
 },
 "nbformat": 4,
 "nbformat_minor": 5
}
