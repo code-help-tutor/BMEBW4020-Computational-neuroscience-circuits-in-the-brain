{
 "cells": [
  {
   "cell_type": "markdown",
   "id": "56a45ba5",
   "metadata": {},
   "source": [
    "## Problem 1:\n",
    "\n",
    "Recall the following circuit from HW4:\n",
    "    <div><img src=\"circuit_1.png\" width=550/></div>\n",
    "    \n",
    "$h^1$ and $h^2$ refer to feedforward filters; $h^{11}$ and $h^{22}$ refer to feedback filters; $H$ refer to summation-cross-feedback filters. \n",
    "\n",
    "Take $BSG_1, BSG_2$ to be IAF neurons with $b=1,\\delta=0.01$ and $b=-1,\\delta=-0.01$ respectively. Both neurons have $\\kappa=1$. \n",
    "\n",
    "### Questions:\n",
    "\n",
    "Encode and decode a randomly generated input stimulus using the given circuit. Plot decoding results (time plots and corresponding SNR plots). \n",
    "\n",
    "\n",
    "1. (15 points) Encode a randomly generated signal $u(t)$ of bandwidth $50$ Hertz using the given neuron model. Plot the time-course of the membrane voltages of the two IAF neurons, and label the corresponding spikes on the same plot.\n",
    "2. (25 points) Use the detected spikes to decode the input signal $u(t)$. Plot the time-courses of the decoded and original input signal on the same plot to illustrate the quality of recovery. Also plot the time-course of the corresponding SNR between the signals.\n"
   ]
  },
  {
   "cell_type": "code",
   "execution_count": null,
   "id": "c1973a57",
   "metadata": {},
   "outputs": [],
   "source": [
    "# import libraries\n",
    "import numpy as np\n",
    "import matplotlib.pyplot as plt"
   ]
  },
  {
   "cell_type": "code",
   "execution_count": null,
   "id": "65ff4d9f",
   "metadata": {},
   "outputs": [],
   "source": [
    "# utility functions\n",
    "def stimulus(t, omega, s):\n",
    "    out = np.zeros_like(t)\n",
    "    omega_pi = omega / np.pi\n",
    "    for k in range(len(s)):\n",
    "        out += s[k] * omega_pi * np.sinc(omega_pi * t - k)\n",
    "    return out / np.max(np.abs(out))\n",
    "\n",
    "\n",
    "def signal_generator(t, samples, sample_times, omega):\n",
    "    signal = np.zeros_like(t)\n",
    "    for s, st in zip(samples, sample_times):\n",
    "        signal += omega / np.pi * s * np.sinc(omega / np.pi * (t - st))\n",
    "    return signal"
   ]
  },
  {
   "cell_type": "code",
   "execution_count": null,
   "id": "16d1b353",
   "metadata": {},
   "outputs": [],
   "source": [
    "dt = 1e-5  # time step\n",
    "ds = 10  # downsampling factor\n",
    "t = np.arange(-0.1, 0.25, dt)  # simulation time\n",
    "omega = 2 * np.pi * 50  # cutoff frequency\n",
    "N = np.floor(t[-1] / np.pi * omega).astype(int)  # number of sample points\n",
    "u = stimulus(t, omega, np.random.rand(N) - 0.5)  # randomly generated input stimulus"
   ]
  },
  {
   "cell_type": "code",
   "execution_count": null,
   "id": "79d12b0a",
   "metadata": {},
   "outputs": [],
   "source": [
    "# filter impulse responses\n",
    "T_1 = 0\n",
    "T_2 = 0.1\n",
    "t_filt = np.arange(T_1, T_2, dt)\n",
    "a = 180\n",
    "h1 = ( # h_1\n",
    "    3\n",
    "    * a\n",
    "    * np.exp(-a * t_filt)\n",
    "    * (\n",
    "        (a * t_filt) ** 3 / np.math.factorial(3)\n",
    "        - (a * t_filt) ** 5 / np.math.factorial(5)\n",
    "    )\n",
    ")\n",
    "\n",
    "\n",
    "T_1 = 0\n",
    "T_2 = 0.1\n",
    "t_filt = np.arange(T_1, T_2, dt)\n",
    "a = 160\n",
    "h2 = ( # h_1\n",
    "    3\n",
    "    * a\n",
    "    * np.exp(-a * t_filt)\n",
    "    * (\n",
    "        (a * t_filt) ** 3 / np.math.factorial(3)\n",
    "        - (a * t_filt) ** 5 / np.math.factorial(5)\n",
    "    )\n",
    ")"
   ]
  },
  {
   "cell_type": "code",
   "execution_count": null,
   "id": "9798cee1",
   "metadata": {},
   "outputs": [],
   "source": [
    "def own_filter(t, tk): # h^{11} = h^{22}\n",
    "    td = t - tk\n",
    "    td = td[td>0]\n",
    "    return np.sum(0.1 * np.exp(-td/0.01))\n",
    "\n",
    "def cross_filter(t, tk): # H\n",
    "    td = t - tk\n",
    "    td = td[td>0]\n",
    "    return np.sum(0.075 * np.exp(-td/0.015))\n",
    "\n",
    "# define model"
   ]
  },
  {
   "cell_type": "code",
   "execution_count": null,
   "id": "e07968a3",
   "metadata": {},
   "outputs": [],
   "source": [
    "# instantiate model"
   ]
  },
  {
   "cell_type": "code",
   "execution_count": null,
   "id": "6f715556",
   "metadata": {},
   "outputs": [],
   "source": [
    "# encode"
   ]
  },
  {
   "cell_type": "code",
   "execution_count": null,
   "id": "c299f515",
   "metadata": {},
   "outputs": [],
   "source": [
    "# decode"
   ]
  },
  {
   "cell_type": "code",
   "execution_count": null,
   "id": "9520be15",
   "metadata": {},
   "outputs": [],
   "source": [
    "# plot results"
   ]
  },
  {
   "cell_type": "markdown",
   "id": "d0d4a21f",
   "metadata": {},
   "source": [
    "## Problem 2: \n",
    "\n",
    "Consider the following circuit diagram for a neuron with two inputs $u_1, u_2$:\n",
    "\n",
    "<div><img src=\"circuit_2.png\" width=550/></div>\n",
    "\n",
    "The linear filters $h_1, h_2$ are models for two dendrites (dendritic processing filters) incident on the neuron, while the axon-hillock (which governs spiking behavior) of the neuron is modeled by an Integrate-and-Fire (IAF) unit. \n",
    "The aggregate dendritic input to the IAF is thus given by $v(t) = \\sum_{m=1}^2 (u_m\\ast h_m)(t)$. The IAF unit maps the input signal $v$ into the output spike sequence $(t_k)_{k=1}^n$, where $n$ denotes the total number of spikes produced on an interval $t\\in[0,\\,T]$. \n",
    "\n",
    "You are each given a black-box instance of the neuron described above (with name `neuron_uni.py`) that takes a time vector $t$ and an input signal $u$ as input arguments. \n",
    "- In \"Dendrite\" mode, the model first feeds $u$ to the dendritic tree, then passes the output of the dendritic tree to the axon hillock, and finally returns the spike train $\\sum_k \\delta(t-t_k)$ generated by the axon-hillock. In this case $u$ should be a 2D array with $u[0]=u_1, u[1]=u_2$.\n",
    "- In \"Axon\" mode, $u$ is passed directly to the axon-hillock. In this case $u$ should be a 1D array of the same shape as $t$. \n",
    "\n",
    "The model given to you in `model_uni.py` can be used by doing the following:\n",
    "```python\n",
    ">>> from model_uni import model\n",
    ">>> tk1 = model(t, np.array([u1, u2]), \"Dendrite\") # inject into dendritic tree\n",
    ">>> tk2 = model(t, v, \"Axon\") # inject into axon-hillock\n",
    "```\n",
    "\n",
    "### Questions: \n",
    "Your task is to identify the circuit.\n",
    "1. (20 points) We will start with identifying the IAF unit. Assume that $\\kappa=1$ is already known. Inject the axon-hillock with appropriately chosen currents to identify the firing threshold $\\delta$ and bias current $b$ of the IAF unit. Briefly explain your methodology. \n",
    "2. (40 points) Identify the two filters $(h^1(t),h^2(t))$ on $t\\in [0,0.5]$[s] by generating random non-zero bandlimited input signals ${\\bf u} = (u_1, u_2)$ in the _trignometric polynomial_ space. Choose any other parameters for your experiments as appropriate. \n",
    "    1. For a range of bandwidths $\\Omega^i, i=1,2,\\ldots$, identify the filters $\\hat{h}_{1,i}, \\hat{h}_{2,i}$ by using the input with corresponding bandwidth. Calculate the mean square error $\\epsilon_i = MSE(\\hat{h}_{1,i-1}, \\hat{h}_{1,i}) + MSE(\\hat{h}_{2,i-1}, \\hat{h}_{2,i})$, where $\\hat{h}_{1,0}=\\hat{h}_{2,0}=0$.\n",
    "    2. Plot $\\epsilon_i$ v.s. $\\Omega_i$. What do you find? Can you identify the effective bandwidth of the unknown dendritic processing filters? "
   ]
  },
  {
   "cell_type": "code",
   "execution_count": null,
   "id": "5a0afaa7",
   "metadata": {},
   "outputs": [],
   "source": [
    "import sys\n",
    "sys.path.append('student')"
   ]
  },
  {
   "cell_type": "code",
   "execution_count": null,
   "id": "5d71aeaf",
   "metadata": {},
   "outputs": [],
   "source": [
    "def getStimulusTrig(t, Omega, L, is_zero, M):\n",
    "    if is_zero:  # returns a zero signal which can be useful for debugging\n",
    "        ul = np.zeros(2 * L + 1)\n",
    "    else:\n",
    "        ul = np.random.rand(2 * L + 1)\n",
    "        ul[:L] = np.conj(ul[::-1][:L])\n",
    "\n",
    "    u = np.zeros_like(t)  # initialize the signal\n",
    "    for l in range(-L, L + 1):\n",
    "        u = u + ul[l + L] * np.exp(1j * l * Omega * t / L)\n",
    "    u = np.real(u)\n",
    "\n",
    "    # normalize\n",
    "    max_u = np.max(np.abs(u))\n",
    "    if max_u > 0:\n",
    "        u = M * u / max_u\n",
    "        ul = M * ul / max_u\n",
    "\n",
    "    return u, ul"
   ]
  },
  {
   "cell_type": "code",
   "execution_count": null,
   "id": "b129ff45",
   "metadata": {},
   "outputs": [],
   "source": [
    "dt = 1e-6\n",
    "t = np.arange(0, 0.5, dt)  # sec\n",
    "L = 20\n",
    "T = t[-1]\n",
    "Omega = 2 * np.pi * L / T"
   ]
  },
  {
   "cell_type": "code",
   "execution_count": null,
   "id": "ba0df211",
   "metadata": {},
   "outputs": [],
   "source": [
    "# generate random signals in trigonometric polynomial space\n",
    "u, u_coeffs = getStimulusTrig(t, Omega, L, False, 1)"
   ]
  },
  {
   "cell_type": "code",
   "execution_count": null,
   "id": "6ad07dad",
   "metadata": {},
   "outputs": [],
   "source": [
    "# encode"
   ]
  },
  {
   "cell_type": "code",
   "execution_count": null,
   "id": "aff7703c",
   "metadata": {},
   "outputs": [],
   "source": [
    "# compute q"
   ]
  },
  {
   "cell_type": "code",
   "execution_count": null,
   "id": "04f0c161",
   "metadata": {},
   "outputs": [],
   "source": [
    "# compute Phi"
   ]
  },
  {
   "cell_type": "code",
   "execution_count": null,
   "id": "293c18b8",
   "metadata": {},
   "outputs": [],
   "source": [
    "# decode"
   ]
  },
  {
   "cell_type": "code",
   "execution_count": null,
   "id": "60d84b0f",
   "metadata": {},
   "outputs": [],
   "source": [
    "# recover"
   ]
  },
  {
   "cell_type": "code",
   "execution_count": null,
   "id": "b4a7b106",
   "metadata": {},
   "outputs": [],
   "source": [
    "# plot results"
   ]
  }
 ],
 "metadata": {
  "kernelspec": {
   "display_name": "Python 3 (ipykernel)",
   "language": "python",
   "name": "python3"
  },
  "language_info": {
   "codemirror_mode": {
    "name": "ipython",
    "version": 3
   },
   "file_extension": ".py",
   "mimetype": "text/x-python",
   "name": "python",
   "nbconvert_exporter": "python",
   "pygments_lexer": "ipython3",
   "version": "3.9.12"
  }
 },
 "nbformat": 4,
 "nbformat_minor": 5
}
