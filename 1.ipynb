{
 "cells": [
  {
   "cell_type": "markdown",
   "metadata": {},
   "source": [
    "## PROBLEM #1: Solving Reduced Hodgkin-Huxley Model Numerically \n",
    "In this problem you are asked to implement (solve) a reduced Hodgkin-Huxley neuron model (**Wilson neuron**) that is a further simplification of the Rinzel model.\n",
    "\n",
    "\\begin{equation}\n",
    "\\begin{split}\n",
    "C\\frac{dV}{dt} &= -g_{Na}\\cdot(17.81+47.71V+32.63V^2)\\cdot(V-E_{Na}) - g_R\\cdot R\\cdot(V-E_R) + I(t) \\\\\n",
    "\\tau_R\\frac{dR}{dt} &= -R + 1.35V + 1.03 \\\\\n",
    "\\end{split}\n",
    "\\end{equation}\n",
    "where \n",
    "\n",
    "\n",
    "    \n",
    "|$g_{Na}$|$E_{Na}$|$g_R$|$E_R$|$\\tau_R$|$C$|\n",
    "|:----|:-----|:---|:---|:-----|:-----|\n",
    "|<img style=\"width:100px\">1|<img style=\"width:100px\">0.55|<img style=\"width:100px\">26|<img style=\"width:100px\">-0.92|<img style=\"width:100px\">1.9|<img style=\"width:100px\">0.8|\n",
    "    \n",
    "\n",
    "Create an input current that is a periodic bandlimited function of the form\n",
    "$$I(t)= \\sum_{m=-M}^{M} a_m \\cos \\left(\\frac{m\\Omega t}{M}\\right)$$\n",
    "where $\\Omega = 2 \\pi \\cdot 100$ Hz, $M=3$.\n",
    "\n",
    "1. Implement the Wilson neuron model defined by the equation above. You are asked to implement [Euler's method](https://en.wikipedia.org/wiki/Euler_method) for solving differential equations numerically. Essentially, for differential equation $\\frac{dx}{dt} = f(x) + I(t)$, we iteratively solve the value for $x(t+\\Delta t)$ given previous value $x(t)$ and gradient $f(x(t)) + I(t)$ as $\\frac{x(t+\\Delta t) - x(t)}{\\Delta t} = f(x(t)) + I(t)$.\n",
    "\n",
    "2. Assuming that $a_m=constant, -M \\le m \\le M$, with initial conditions $V(0)=-0.7, R(0)=0.088$, plot the input and the output\n",
    "of the Wilson neuron on the time interval [0, 200] ms. Empirically determine a range of values for the $a_m$'s that makes the neuron fire.\n",
    "3. Plot the total number of spikes fired in the interval [0, 200] ms for a broad range of $a_m = constant$ values. For the same range of input current values, show the following\n",
    "    1. spike count\n",
    "    2. spike rate (spikes per second)\n",
    "    3. spike amplitude (Voltage value at spike time)\n",
    "4. Assume the input current is a [Heaviside step function](https://en.wikipedia.org/wiki/Heaviside_step_function) $I(t) = c\\cdot u(t)$, where $c$ is amplitude of the injected current in $pA$, find a range of value for $c$ where the Wilson neuron exhibits limit cycle (periodic spiking). Draw the limit cycle in the $V$ vs. $R$ plane for at least 3 different values of $c$, comment on the effect of the amplitude $c$ on the limit cycle based on your results."
   ]
  },
  {
   "cell_type": "markdown",
   "metadata": {},
   "source": [
    "## PROBLEM \\#2 - Ion Channels of Hodgkin-Huxley Neuron\n",
    "### Part 1\n",
    "Assume that the input to a Hodgkin-Huxley neuron is an injected current of the form\n",
    "$$I(t)= \\sum^{10}_{k=0}a_k \\frac{\\sin \\Omega (t-kT)}{\\Omega (t-kT)}$$\n",
    "where $a_k = constant, 0 \\leq k \\leq 10$, $\\Omega = 2 \\pi \\cdot 60$ Hz, $T = \\pi/\\Omega$,\n",
    "$t \\in [0, 200]$ ms. \n",
    "\n",
    "1. Assuming that $a_k=constant, -0 \\le k \\le 10$, plot the input and the output\n",
    "of the Hodgkin-Huxley neuron on the time interval [0, 200] ms with initial conditions $V(0) = -65, n(0) = m(0) = 0, h(0)=1$. Empirically determine a range of values for the $a_k$'s that makes the neuron fire robustly (at least more than once).\n",
    "\n",
    "2. With the smallest $a_m$ that makes the neuron fire, plot the K, Na and capacitive currents, i.e., $I_K$, $I_{Na}$, and $C \\frac{dV}{dt}$ as a function of time.\n",
    "\n",
    "\n",
    "### Part 2\n",
    "\n",
    "Use the membrane voltage $V$ of the Hodgkin-Huxley neuron obtained from Part 1 to define $V_K = V - \\min(V)$. Then, using $V_K$ as input, simulate a transient Potassium memconductance (in isolation), defined by the following equations: \n",
    "\n",
    "\\begin{equation}\n",
    "\\begin{split}\n",
    "I_{K} &= \\bar{g}_{K} \\cdot a_{\\infty}(V_K) \\cdot b \\cdot (V_K - E_{K}) \\\\\n",
    "\\tau_b \\cdot \\frac{db}{dt} &= b_{\\infty}(V_K) - b \\\\\n",
    "a_{\\infty}(V_K) &= \\frac{1}{1 + \\exp{\\left(-(V_K+27)/8.8 \\right)}} \\\\\n",
    "b_{\\infty}(V_K) &= \\frac{1}{1 + \\exp{\\left((V_K+68)/6.6 \\right)}}\n",
    "\\end{split}\n",
    "\\end{equation}\n",
    "\n",
    "Choose $\\bar{g}_{K}=16$, $\\tau_b=15$, $E_K=-90$ and simulate the above equations assuming that time is given in milliseconds.\n",
    "\n",
    "Characterize the memconductance by plotting:\n",
    "\n",
    "1. the input voltage $V_K$ and the resulting current $I_K$ as a function of time, and the internal state $b$ and the memcondactance $g_K$ as a function of time;\n",
    "2. in a `2x2` array of subplots, plot the following:\n",
    "    1. (top-left) memconductance $g_K$ versus voltage $V_K$,\n",
    "    2. (top-right) memconductance $g_K$ versus flux $\\phi_K$,\n",
    "    3. (bottom-left) voltage $V_K$ versus current $I_K$,\n",
    "    4. (bottom-right) charge $q_K$ vs. flux $\\phi_K$\n",
    "    \n",
    "-----------------"
   ]
  },
  {
   "cell_type": "markdown",
   "metadata": {},
   "source": [
    "### Setup\n",
    "\n",
    "We import the numpy, fix its random seed, and import matplotlib for plot generation."
   ]
  },
  {
   "cell_type": "code",
   "execution_count": null,
   "metadata": {},
   "outputs": [],
   "source": [
    "# Import libraries\n",
    "%matplotlib inline\n",
    "import numpy as np\n",
    "import matplotlib.pyplot as plt\n",
    "\n",
    "np.random.seed(0)  # fix random seed"
   ]
  },
  {
   "cell_type": "markdown",
   "metadata": {},
   "source": [
    "We provided a convenience function for detecting spike, you can invoke this function as `spike_detect(V,35.0)`. Replace `35.0` by your desired threshold value."
   ]
  },
  {
   "cell_type": "code",
   "execution_count": null,
   "metadata": {},
   "outputs": [],
   "source": [
    "# Define spike detection function\n",
    "def spike_detect(v, thresh):\n",
    "    x = (v[2:-1] > v[1:-2]) * (v[2:-1] > v[3:]) * (v[2:-1] > thresh)\n",
    "    x = np.append(False, x)\n",
    "    x = np.append(x, False)\n",
    "    return x"
   ]
  },
  {
   "cell_type": "markdown",
   "metadata": {},
   "source": [
    "Define Function Generators for problem 1 and 2"
   ]
  },
  {
   "cell_type": "code",
   "execution_count": null,
   "metadata": {},
   "outputs": [],
   "source": [
    "# TODO - define two functions for generating currents for question 1 and 2\n",
    "# the functions should take the following forms\n",
    "\n",
    "# problem_1_I_in(t,a,M,omega)\n",
    "#   input: (t,a,M,omega), a is a vector of all am values\n",
    "#   output: I\n",
    "\n",
    "# problem_2_I_in(t,a,K,omega)\n",
    "#   input: (t,a,K,omega), a is a vector of all ak values\n",
    "#   output: I"
   ]
  },
  {
   "cell_type": "markdown",
   "metadata": {},
   "source": [
    "# Problem 1 - Reduced Hodgkin Huxley Model"
   ]
  },
  {
   "cell_type": "markdown",
   "metadata": {},
   "source": [
    "Specify global variables"
   ]
  },
  {
   "cell_type": "code",
   "execution_count": null,
   "metadata": {},
   "outputs": [],
   "source": [
    "# TODO\n",
    "\n",
    "t  = [] # time vector, in ms\n",
    "M  = [] # order of signal\n",
    "am = [] # coefficients of signal, set to all ones so we can scale them later\n",
    "Omega = [] # bandwidth in rad/s = 2*pi*frequency"
   ]
  },
  {
   "cell_type": "markdown",
   "metadata": {},
   "source": [
    "### Part 1 - Numerical Integration\n",
    "Let us start by implementing the reduced Hodgkin Huxley Model. If you have trouble, please refer to `hodgkin_huxley.py` for refernece."
   ]
  },
  {
   "cell_type": "code",
   "execution_count": null,
   "metadata": {},
   "outputs": [],
   "source": [
    "def Wilson_neuron(t, I):\n",
    "    \"\"\"Simulate a Wilson neuron \n",
    "    # Parameters  \n",
    "        t: duration, ms\n",
    "        dt: temporal resolution, ms\n",
    "        I: input current, pA \n",
    "    # Return Values\n",
    "        V: Membrane potential over time, in V\n",
    "        R: auxiliary variable R over time\n",
    "    \"\"\"\n",
    "    # TODO - constant values\n",
    "    g_Na = np.nan\n",
    "    E_Na = np.nan\n",
    "    g_R = np.nan\n",
    "    E_R = np.nan\n",
    "    tau_R = np.nan\n",
    "    C = np.nan\n",
    "    \n",
    "    # TODO - compute dt\n",
    "    dt = np.nan\n",
    "    \n",
    "    V = np.zeros_like(T) # voltage over time\n",
    "    R = np.zeros_like(T) # R over time\n",
    "    \n",
    "    # TODO - Initialize V_0, R_0\n",
    "    V[0] = np.nan\n",
    "    R[0] = np.nan\n",
    "\n",
    "    for i in range(1, len(t)): \n",
    "        # TODO - update rule \n",
    "\n",
    "    return V, R"
   ]
  },
  {
   "cell_type": "markdown",
   "metadata": {},
   "source": [
    "### Part 2 - range of $a_m$\n",
    "Then we plot the input current and the corresponding membrane voltage for two constants, with the constant $a_m=0.2$ and $a_m=0.4$."
   ]
  },
  {
   "cell_type": "code",
   "execution_count": null,
   "metadata": {},
   "outputs": [],
   "source": [
    "# TODO - run experiment with different scales \n",
    "scale = 1\n",
    "# = problem_1_I_in(t, am*scale, M, Omega)\n",
    "\n",
    "# we use the provided hogkinhuxley model to run the experiment\n",
    "# and obtain spike states using the utility function defined above\n",
    "V = Wilson_neuron(t,I)\n",
    "S = spike_detect(V,0.2)\n",
    "\n",
    "# plot the inputs and voltages (4 plots in total)\n",
    "# (we recommend using subplots and PLEASE CLARIFY what each plot is with titles and axis-units)"
   ]
  },
  {
   "cell_type": "markdown",
   "metadata": {},
   "source": [
    "Now, let us compute the number of spikes for a range of $a_m$ values."
   ]
  },
  {
   "cell_type": "code",
   "execution_count": null,
   "metadata": {},
   "outputs": [],
   "source": [
    "# TODO - count spikes only in in t=[0,200]ms\n",
    "# we recommend using np.linspace or np.arrange to generate am's (you can look up documentations)"
   ]
  },
  {
   "cell_type": "markdown",
   "metadata": {},
   "source": [
    "Let us now plot the spike counts and voltage traces for some current level. These count and voltage traces show that the empirical range that makes the neuron fire is approximately $a_m \\in \\{0.03, 2\\}$. After passing the upper limit, we observe that the HH neuron has undefined behavior."
   ]
  },
  {
   "cell_type": "code",
   "execution_count": null,
   "metadata": {},
   "outputs": [],
   "source": [
    "# TODO - plot number of spikes for different values of am"
   ]
  },
  {
   "cell_type": "markdown",
   "metadata": {},
   "source": [
    "### Part 3 - compare across $a_m$\n",
    "For a range of $a_m$ values, show `count`,`rate`,`amplitude`"
   ]
  },
  {
   "cell_type": "code",
   "execution_count": null,
   "metadata": {},
   "outputs": [],
   "source": [
    "# TODO - compare results across a_m constant values"
   ]
  },
  {
   "cell_type": "markdown",
   "metadata": {},
   "source": [
    "### Part 4 -  Limit Cycle\n",
    "In this part, you will need to change the input and plot the relation between V and R and determine whether there is a limit cycle by plotting V against R. "
   ]
  },
  {
   "cell_type": "code",
   "execution_count": null,
   "metadata": {},
   "outputs": [],
   "source": [
    "# TODO \n",
    "\n",
    "# please plot the LC with both the lower and higher bounds for c (that you determined)\n",
    "# as well as at least one case in between"
   ]
  },
  {
   "cell_type": "markdown",
   "metadata": {},
   "source": [
    "# Problem 2 - Ion Channels of Hodgkin-Huxley Model"
   ]
  },
  {
   "cell_type": "markdown",
   "metadata": {},
   "source": [
    "Define the global parameters for the problem."
   ]
  },
  {
   "cell_type": "code",
   "execution_count": null,
   "metadata": {},
   "outputs": [],
   "source": [
    "# TODO\n",
    "t = np.nan# in s, note that this is different from the problem 1\n",
    "Omega = np.nan\n",
    "ak = np.nan\n",
    "T = pi/Omega\n",
    "dt  = np.nan "
   ]
  },
  {
   "cell_type": "markdown",
   "metadata": {},
   "source": [
    "Generate input current for this section"
   ]
  },
  {
   "cell_type": "code",
   "execution_count": null,
   "metadata": {},
   "outputs": [],
   "source": [
    "# TODO - Generate current for problem 2 using defined function\n",
    "# e.g. I_ext = problem_2_I_in(t,a,K,omega)"
   ]
  },
  {
   "cell_type": "markdown",
   "metadata": {},
   "source": [
    "### Part 1 - Ion Channel Currents\n",
    "Let us start by performing simulation with different $a_k$ and determine the range that makes the neuron fire robustly (at least three spikes). "
   ]
  },
  {
   "cell_type": "code",
   "execution_count": null,
   "metadata": {},
   "outputs": [],
   "source": [
    "# TODO - simulate hodgkin-huxley model"
   ]
  },
  {
   "cell_type": "markdown",
   "metadata": {},
   "source": [
    "With the smallest $a_k$, let the function return all intermediate values for potential, current and state."
   ]
  },
  {
   "cell_type": "code",
   "execution_count": null,
   "metadata": {},
   "outputs": [],
   "source": [
    "# TODO - simulate hodgkin-huxley model with smallest a_k"
   ]
  },
  {
   "cell_type": "markdown",
   "metadata": {},
   "source": [
    "Plot the output potential (V) along with the requested currents."
   ]
  },
  {
   "cell_type": "code",
   "execution_count": null,
   "metadata": {},
   "outputs": [],
   "source": [
    "# TODO - generate plot"
   ]
  },
  {
   "cell_type": "markdown",
   "metadata": {},
   "source": [
    "### Part 2 - Transient K channel\n",
    "\n",
    "Simulate the transient potassium channel using voltage from the previous part as input."
   ]
  },
  {
   "cell_type": "code",
   "execution_count": null,
   "metadata": {},
   "outputs": [],
   "source": [
    "# TODO - simulate only transient K channel"
   ]
  },
  {
   "cell_type": "code",
   "execution_count": null,
   "metadata": {},
   "outputs": [],
   "source": [
    "# TODO - Compute charge and flux \n",
    "# you can do numerical integration using cumsum, trapz or euler methods,\n",
    "# example:\n",
    "#    phi = np.cumsum(V_K)*dt\n",
    "#    q = np.cumsum(I_K)*dt"
   ]
  },
  {
   "cell_type": "code",
   "execution_count": null,
   "metadata": {},
   "outputs": [],
   "source": [
    "# TODO - generate plots "
   ]
  }
 ],
 "metadata": {
  "kernelspec": {
   "display_name": "Python 3 (ipykernel)",
   "language": "python",
   "name": "python3"
  },
  "language_info": {
   "codemirror_mode": {
    "name": "ipython",
    "version": 3
   },
   "file_extension": ".py",
   "mimetype": "text/x-python",
   "name": "python",
   "nbconvert_exporter": "python",
   "pygments_lexer": "ipython3",
   "version": "3.9.12"
  }
 },
 "nbformat": 4,
 "nbformat_minor": 4
}
