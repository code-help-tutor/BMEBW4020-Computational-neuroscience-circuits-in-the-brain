{
 "cells": [
  {
   "cell_type": "markdown",
   "metadata": {},
   "source": [
    "## PROBLEM #1: \n",
    "\n",
    "The dendritic processing circuit in the figure below is consists of a linear spatial filter with impulse response $h_1(x,y)$ in cascade with a Biophysical Spike Generator (BSG) which is taken to be an Ideal Integrate-and-fire Neuron; the BSG has a feedback loop that is modeled as a linear temporal filter with impulse response $h_2(t)$. The input $u(t)$ is in the *trignometirc polynomial* space.\n",
    "\n",
    "<center><img src=\"fig1.png\" width=500></center>\n",
    "\n",
    "1. Write the t-transform for the filter-BSG-feedback circuit in inner product form.\n",
    "2. Find an algorithem for identifying the impulse response of the two filters, $h_1(t)$ and $h_2(t)$, using stimuli in the _trignometric polynomial_ space. Describe the process and write out any relavent equation in sufficient detail; clearly define additional notations if needed and please stay consistent (and please try to use notations consistent with the chapters). \n",
    "\n",
    "No code is required and please use markdown for your answer.\n",
    "\n",
    "**Hint:** Theorem 28 on SISO Spatial CIM in Chapter 13 is a good starting point. Also refer to Figure 13.13 in Chapter 13. "
   ]
  },
  {
   "cell_type": "markdown",
   "metadata": {},
   "source": [
    "### Your answer here ###"
   ]
  },
  {
   "cell_type": "markdown",
   "metadata": {},
   "source": [
    "## PROBLEM \\#2:\n",
    "You are asked to identify dendritic processing filter $h$ in face of noise for this problem, the circuit is a simple [Filter]-[Ideal IAF] setup.\n",
    "<center><img src=\"fig2.png\" width=500></center>"
   ]
  },
  {
   "cell_type": "markdown",
   "metadata": {},
   "source": [
    "The dendritic processing filter $h(t)$ is *causal* linear kernel of form $\\mathbb{1}_{t\\ge 0}\\cdot c\\cdot \\frac{t}{\\tau} \\cdot e^{1-60\\frac{t}{\\tau}}$, parameterized by $\\tau = 0.2, c=1e3$.\n",
    "\n",
    "The threshold of the ASDM, $(\\delta_k), k\\in\\mathbb{Z}$, is a Gaussian random variable with mean $\\delta= 0.01$ and variance $(0.1 \\cdot \\delta)^2$. Note that for each spike $k$ the threshold is noisy. Also, choose $\\kappa=1, b=1$.\n",
    "\n",
    "After generating the spike sequence $(t_k)$ above with noisy threshold above, assume that the dendritic processing filter is unknown. Identify the impulse response of the filter $\\mathcal{P}h^{\\ast} \\approx h$ in the following steps:\n",
    "\n",
    "1. Identify $\\mathcal{P}h^{\\ast}$ with stimuli of bandwidth $\\Omega = 2\\pi \\cdot 25$ rad/s and  $\\Omega = 2\\pi \\cdot 50$ rad/s, respectively. Choose the order $L$ such that each consecutive pair of spectrum lines are separated by a constant freqeuncy gap (e.g. $2$Hz). By having a consistent density of spetrum lines, we ensure that as we increase bandwidth of stimulus $u$, the frequency resolution of the identified filter $\\mathcal{P}h^{\\ast}$ is not compromised.\n",
    "2. Compute and plot the absolute error in dB between $h$, $\\mathcal{P}h$ and the recovered filters $\\mathcal{P}h^{\\ast}$ _in dB_ for the above 2 stimuli.\n",
    "3. Identify $h$ with at least 5 different stimuli frequency in range $\\Omega \\in [2\\pi \\cdot 10, 2\\pi \\cdot 80]$ rad/s. Plot _on the same figure_ the Mean-Squared-Error MSE$(\\mathcal{P}h^{\\ast},h)$\n",
    " and MSE$(\\mathcal{P}h^{\\ast},\\mathcal{P}h)$ for different stimulus bandwidth $\\Omega$ in $dB$. Discuss any trends that you observed.\n",
    "    - Note: For this problem, it's better to compute Mean-Squared-Error Normalized by the peak of the original filter, where the error term is given as $$err(h,Ph) = \\frac{h - Ph}{\\max_t |h(t)|}$$.\n",
    "\n",
    "Choose any other parameters for your experiments as appropriate."
   ]
  },
  {
   "cell_type": "code",
   "execution_count": null,
   "metadata": {},
   "outputs": [],
   "source": [
    "import numpy as np\n",
    "import matplotlib.pyplot as plt\n",
    "\n",
    "from compneuro.neurons.asynchronous_sigma_delta_modulator import ASDM\n",
    "from compneuro.utils.signal import spike_detect\n",
    "\n",
    "np.random.seed(0)"
   ]
  },
  {
   "cell_type": "code",
   "execution_count": null,
   "metadata": {},
   "outputs": [],
   "source": [
    "### Your answer here ###"
   ]
  }
 ],
 "metadata": {
  "kernelspec": {
   "display_name": "Python 3 (ipykernel)",
   "language": "python",
   "name": "python3"
  },
  "language_info": {
   "codemirror_mode": {
    "name": "ipython",
    "version": 3
   },
   "file_extension": ".py",
   "mimetype": "text/x-python",
   "name": "python",
   "nbconvert_exporter": "python",
   "pygments_lexer": "ipython3",
   "version": "3.9.12"
  }
 },
 "nbformat": 4,
 "nbformat_minor": 4
}
