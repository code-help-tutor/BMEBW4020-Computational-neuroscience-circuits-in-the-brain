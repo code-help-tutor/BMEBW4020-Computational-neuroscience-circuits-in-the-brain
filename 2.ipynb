{
 "cells": [
  {
   "cell_type": "markdown",
   "metadata": {},
   "source": [
    "## Problem 1: PRC of Reduced Hodgkin-Huxley Model\n",
    "In this problem, you are asked to do the following:\n",
    "\n",
    "1. Implement Winfree's method for approximating the Phase Response Curve (PRC) for Voltage of the Reduced Hodgkin-Huxley (RHH) Model, which is called the `HodgkinHuxley3State` model in the `compneuro` package. Use simple words to describe the procedures and your method (via #comments). \n",
    "2. Generate spike train with RHH neuron and the I/O equivalent project-integrate-and-fire (PIF) neuron when the input is [$I_{ext}(t)$](#note-on-I-ext). Use simple words to describe your implementation of PIF (via #comments). \n",
    "3. Evaluate the mean $\\mu$ and standard deviation $\\sigma$ of the difference between the corresponding spike times of the RHH neuron and the equivalent PIF neuron for bandlimited stimulus described by [equation](#input) scaled to have maximum amplitude $c > 0$ (i.e. $\\max_{t}|u(t)| = c$). Plot these statistics as a function of $c$ across values of $c$. \n",
    "    - **Note 1**: You should generate new inputs $u(t)$ (with different random coefficients) to ensure that the error statistics are not biased by the form of the input stimulus. \n",
    "    - **Note 2**: The value of $c$ should not be so large that the limit cycle of the HH model collapses to singularity. It would be instructive to look at F-I curve of the RHH model first to find a range of input current values that gives periodic spiking (this was explored in the last homework).\n",
    "\n",
    "### Note on $I_{ext} = I + u(t)$ <a name=\"note-on-I-ext\"/>\n",
    "Starting this homework, the injected current to model neurons $I_{ext}$ will have this form $I+u(t)$, where $I$ refers to _injected current_ and $u(t)$ is the _stimulus_. \n",
    "The ideas is as follows:\n",
    "\n",
    "1. $I$: injected (bias) current is a _constant_ value for all time that is injected to the neuron model. You can consider this value as the _average_/DC value of the input $I_{ext}$. Since this value is not time-varying, it contains _no information_ (in the sense of entropy). For this reason, we don't use refer to $I$ as _stimulus_. However, the bias $I$ will change the shape of the limit cycle $\\Gamma$ (or the periodic solution ${\\bf x}^0$) of the neuron model, where the higher the bias current $I$, the smaller the limit cycle and the faster the neuron oscillates. For this reason, we can consider the dynamic of the neuron model to be _parametrized_/_indexed_ by the bias $I$.\n",
    "\n",
    "2. $u(t)$: this is a time-varying signal that has information content. If we consider $I$ as the DC value of $I_{ext}$, then $u(t)$ will be a zero-mean signal that corresponds to local perturbation of the neuron dynamic around the limit cycle $\\Gamma$. This is the input signal that we seeks to decode from the neuron spike times.\n",
    "\n",
    "### Input Stimulus $u(t)$ - Complex Exponential <a name=\"input\"></a>\n",
    "The input stimulus here is a zero-DC valued complex exponential of order $M=5$ on support $t\\in[0, 200]$ ms with bandwidth $\\Omega = 2\\pi \\cdot 20 \\quad [rad\\cdot s^-1]$,\n",
    "$$\n",
    "u(t)= \\sum^{M}_{m=-M}a_{m} \\exp\\left(j\\frac{m\\Omega t}{M}\\right)\n",
    "$$\n",
    "\n",
    "Note that for stimulus $u(t)$ to be real-valued signal, the coefficients $a_m$ need to be conjugate-symmetric. In another word, $a_m = \\overline{a_{-m}} = Re(a_{-m}) - j Im(a_{-m})$, \n",
    "where $Re(\\cdot), Im(\\cdot)$ are the _real_ and _imagninary_ parts of the complex number respectively. The stimulus $u(t)$ should be zero-DC valued, which means that $a_0 = 0$. This input stimulus $u(t)$ is additively coupled to a periodically spiking HH neuron."
   ]
  },
  {
   "cell_type": "markdown",
   "metadata": {},
   "source": [
    "## Problem 2: Synaptic Input and reduced PIF\n",
    "So far, the injected currents into point neuron models are chosen to be arbitrary continuous waveforms. For this problem, you will explore using synaptic current to drive postsynaptic neurons.\n",
    "\n",
    "You are asked to do the following:\n",
    "1. Generate `20` Poisson processes, each with constant rate $\\lambda=100 Hz$. These will serve as time traces of neurotransmitter concentration for `20` GABA_A synapses we will simulate in the next step.\n",
    "2. Simulate a single GABA_A synapse connected to a HH neuron, with the input neurotransmitter concentration for the synapse being one of the `20` Poisson processes generated in Step 1, scaled by a constant $c$. Generate the following plots\n",
    "    1. Synaptic current in the postsynaptic neuron $I_{syn}^{i} = g^{i}(V^{i} - E^i_{rev})$\n",
    "    2. Membrane Voltage of the postsynaptic neuron $V^{i}$\n",
    "    3. Do you see any spiking behavior in the postsynaptic neuron for _any_ value of $c$? Why or why not? \n",
    "3. Simulate `20` GABA_A synapses connected to a HH neuron, with neurotransmitter concentrations given by the Poisson processes generated in Step 1, scaled up by $c=500$. Simulate this convergent synapse-neuron circuit where the synaptic current is the sum $I_{syn} = \\sum_{i}g^{i}(V-E^i_{rev}), i=\\{1,2,\\ldots,20\\}$. Plot the synaptic current and the neuron membrane voltage and check if the neuron spikes now.\n",
    "4. Assuming that the model neuron is biased at a current level $I = mean(I_{syn})$ ($I_{syn}$ from step 3), implement reduced PIF neuron under this bias level $I$. Drive the reduced PIF neuron with input current $u(t) = I_{syn}(t)-I$. Plot the spike times of the model neuron and the reduced PIF. Is the reduced PIF a good approximation in this case? Why or why not?\n",
    "\n",
    "\n",
    "### Poisson Spiking $\\lambda$\n",
    "In time bin $[t,t+\\Delta t]$, the probability of spike is $\\lambda \\cdot \\Delta t$. Therefore, the spike state is a binary number indicating if a in this time bin is $s(t) = \\mathbb{1}_{x<\\lambda \\cdot \\Delta t}$, where $x \\sim Unif([0,1])$. Here $\\mathbb{1}$ denotes an indicator random variable, \n",
    "\n",
    "### Synaptic Current $I_{syn}(t)= g_{syn}(t)\\cdot(V_{post}(t)-E_{rev})$\n",
    "\n",
    "Currents are injected into neurons through opening of ion-channels that may be controlled by membrane voltage of ligand bindings. In the case of chemical synapses (which is the case here), the ion-channels on post-synaptic neurons are open when neuro-transmitters relased by the pre-synaptic neurons bind to the receptors. There are many different kinds of such ligand-controlled ion-channels and they all have different dynamics, you are encouraged to look up concepts like Ionotropic vs Metabotropic. \n",
    "\n",
    "We can model all synaptic current going through ligand-gated ion channels as follows:\n",
    "$$I_{syn}(t)= g_{syn}(t)\\cdot(V_{post}(t)-E_{rev})$$\n",
    "where \n",
    "1. $g_{syn}(t)$ is a time varying function that controls the synaptic conductance \n",
    "2. $V_{post}(t)$ is the membrane voltage of the postsynaptic neuron\n",
    "3. $E_{rev}$ is the reverse potential of the synapse\n",
    "\n",
    "**Note**: By convention, synaptic current $I_{syn}$ has negative value because it denotes _inward_ current to the neuron. Therefore, to use simulation kernels (including `hodgkin_huxley`), the input current $I_{ext}$ will be $I_{ext} = -I_{syn}$.\n",
    "\n",
    "**Note**: Use the GABA_A synapse as defined in the `compneuro` "
   ]
  },
  {
   "cell_type": "markdown",
   "metadata": {},
   "source": [
    "## Setup"
   ]
  },
  {
   "cell_type": "code",
   "execution_count": null,
   "metadata": {},
   "outputs": [],
   "source": [
    "# Import libraries\n",
    "%matplotlib inline\n",
    "import numpy as np\n",
    "import matplotlib.pyplot as plt\n",
    "from tqdm.notebook import tqdm\n",
    "\n",
    "from compneuro.neurons.hodgkin_huxley_3state import HodgkinHuxley3State # For Problem 1\n",
    "from compneuro.neurons.hodgkin_huxley import HodgkinHuxley # For Problem 2\n",
    "from compneuro.utils.signal import spike_detect\n",
    "\n",
    "np.random.seed(0)  # fix random seed\n",
    "plt.rcParams[\"figure.figsize\"] = [10, 5]\n",
    "plt.rcParams[\"figure.dpi\"] = 80"
   ]
  },
  {
   "cell_type": "markdown",
   "metadata": {},
   "source": [
    "# Problem 1 - PRC of RHH model"
   ]
  },
  {
   "cell_type": "markdown",
   "metadata": {},
   "source": [
    "## Initialization"
   ]
  },
  {
   "cell_type": "code",
   "execution_count": null,
   "metadata": {},
   "outputs": [],
   "source": [
    "# TODO: Implement signal generator that takes in [time, coefficients, order, Bandwidth] as input\n",
    "def bandlmt_sig(t,a,M,omega):\n",
    "    return np.nan"
   ]
  },
  {
   "cell_type": "code",
   "execution_count": null,
   "metadata": {},
   "outputs": [],
   "source": [
    "# TODO: Specify the time resolution for computing PRC. \n",
    "# The smaller the value the better the Winfree method performs\n",
    "\n",
    "# NOTE: start with a smaller value to ensure the code works before making it larger\n",
    "dt = np.nan"
   ]
  },
  {
   "cell_type": "code",
   "execution_count": null,
   "metadata": {},
   "outputs": [],
   "source": [
    "# TODO: Specify the bias of HH Model (I in I_ext = I + u(t)).\n",
    "# This value will be used in both the neuron model itself and its PIF.\n",
    "\n",
    "bias = np.nan\n",
    "# unit is in pico amp\n",
    "\n",
    "# we suggest refering the injection current amplitude (aka without stimulus) \n",
    "# that you've experimented with in HW1 that gives robust firing "
   ]
  },
  {
   "cell_type": "markdown",
   "metadata": {},
   "source": [
    "## Item (i): Extract the PRC"
   ]
  },
  {
   "cell_type": "code",
   "execution_count": null,
   "metadata": {},
   "outputs": [],
   "source": [
    "# TODO: Implement Winfree's Method\n",
    "# As a suggestion, the function should return \n",
    "# 1. period: the period of oscillation, maybe in number of time-steps\n",
    "# 2. limitCycle: the output of the state variables [V, n, m, h, a, b] on a limit cycle\n",
    "# 3. PRC: the phase response curve of the Voltage along the limit cycle\n",
    "\n",
    "# rhh = HodgkinHuxley()\n",
    "\n",
    "# def winfree(model, I, dt, ...):\n",
    "#     return ... \n"
   ]
  },
  {
   "cell_type": "code",
   "execution_count": null,
   "metadata": {},
   "outputs": [],
   "source": [
    "# TODO: Simulate your model\n",
    "period, limitCycle, PRC = winfree(np.nan)"
   ]
  },
  {
   "cell_type": "code",
   "execution_count": null,
   "metadata": {},
   "outputs": [],
   "source": [
    "# TODO: Visualize the limit cycle and the PRC along it"
   ]
  },
  {
   "cell_type": "markdown",
   "metadata": {},
   "source": [
    "## Item (ii): Compare Spikes of PIF and RHH"
   ]
  },
  {
   "cell_type": "markdown",
   "metadata": {},
   "source": [
    "We first generate a bandlimited signal with random coefficients"
   ]
  },
  {
   "cell_type": "code",
   "execution_count": null,
   "metadata": {},
   "outputs": [],
   "source": [
    "# temporal support of the signal [0, 200] ms\n",
    "t = np.arange(0, 200, dt) # you can use [0,0.2]s  as well if it suits you\n",
    "\n",
    "# bandwidth: 20Hz\n",
    "Omega = 2*pi*20\n",
    "\n",
    "# order: 5\n",
    "M = 5\n",
    "\n",
    "# Amplitude of the signal, you can use other values.\n",
    "Sig_Amp = 1\n",
    "\n",
    "# TODO: generate coefficients\n",
    "am = np.nan\n",
    "\n",
    "# generate input signal. Make sure that the signal's DC value (mean) is 0\n",
    "u1 = bandlmt_sig(t, am, M, Omega)\n",
    "u1 = Sig_Amp*u1/max(u1)"
   ]
  },
  {
   "cell_type": "markdown",
   "metadata": {},
   "source": [
    "Simulate the RHH neuron with bias and bandlimited input added."
   ]
  },
  {
   "cell_type": "code",
   "execution_count": null,
   "metadata": {},
   "outputs": [],
   "source": [
    "# TODO: simulate model and find spikes\n",
    "\n",
    "# rhh = HodgkinHuxley3State()\n",
    "# ... = rhh.solve(np.nan)\n"
   ]
  },
  {
   "cell_type": "code",
   "execution_count": null,
   "metadata": {},
   "outputs": [],
   "source": [
    "# TODO: find spike time indices of RHH\n",
    "\n",
    "# tk_idx_RHH = np.nan"
   ]
  },
  {
   "cell_type": "markdown",
   "metadata": {},
   "source": [
    "### Output of PIF\n",
    "The t-transform of the PIF neuron can be written as,\n",
    "$$\n",
    "\\int_{t_k}^{t_{k+1}}(1+\\psi(s+\\tau(s))u(s))ds = \\delta_{t_{k+1}}-\\delta_{t_{k}} \\approx T, \\\\\n",
    "\\tau(t) = \\psi(t+\\tau(t))u(t),~\\tau(0)=0.\n",
    "$$    \n",
    "We assume that $\\tau(s)=0$ , and hence the $t$-transform is reduced to\n",
    "$$ \n",
    "\\int_{t_k}^{t_{k+1}}(1+\\psi(s)u(s))ds = T.\n",
    "$$  "
   ]
  },
  {
   "cell_type": "code",
   "execution_count": null,
   "metadata": {},
   "outputs": [],
   "source": [
    "# TODO: Implement the PIF model using the input defined above and the PRC curve computed\n",
    "\n",
    "# def pif(np.nan):\n",
    "#     return V\n",
    "\n",
    "\n"
   ]
  },
  {
   "cell_type": "code",
   "execution_count": null,
   "metadata": {},
   "outputs": [],
   "source": [
    "# TODO: execute the pif and find spike times\n",
    "\n",
    "# t_pif = np.nan"
   ]
  },
  {
   "cell_type": "code",
   "execution_count": 1,
   "metadata": {},
   "outputs": [],
   "source": [
    "# TODO: Plot RHH, PIF outputs and compare the Inter-spike intervals (time_diff)"
   ]
  },
  {
   "cell_type": "markdown",
   "metadata": {},
   "source": [
    "## Item (iii): Record PIF Error Statistics"
   ]
  },
  {
   "cell_type": "code",
   "execution_count": null,
   "metadata": {},
   "outputs": [],
   "source": [
    "# TODO: Initalize experiment\n",
    "# Find a range of amplitude $C$ that is within the range of permissable input current to the RHH model.\n",
    "# Too large and the limit cycle could collapse\n",
    "C = np.nan # amplitude of u(t) <-- Edit this into an array of c vals\n",
    "\n",
    "avg_diff = np.zeros(len(C))\n",
    "var_diff = np.zeros(len(C))"
   ]
  },
  {
   "cell_type": "code",
   "execution_count": null,
   "metadata": {},
   "outputs": [],
   "source": [
    "# TODO: Simulate the RHH and PIF for inputs I_ext = I + u(t) for different amplitude of u(t): max|u(t)| = c\n",
    "# TODO: Compute the difference between interspike interval of the RHH and PIF, \n",
    "# and calculate the mean/standard deviation of the error.\n",
    "# TODO: visualize the error across stimulus amplitude."
   ]
  },
  {
   "cell_type": "markdown",
   "metadata": {},
   "source": [
    "## Problem 2: Synaptic Input and reduced PIF"
   ]
  },
  {
   "cell_type": "markdown",
   "metadata": {},
   "source": [
    "### Step 1. Generate Spike Trains"
   ]
  },
  {
   "cell_type": "code",
   "execution_count": null,
   "metadata": {},
   "outputs": [],
   "source": [
    "# TODO: generate 20 spike trains and plot them\n",
    "\n",
    "dt = 1e-5\n",
    "spike_trains = []"
   ]
  },
  {
   "cell_type": "markdown",
   "metadata": {},
   "source": [
    "### Step 2. Simulate Synapse connected to HH neuron"
   ]
  },
  {
   "cell_type": "code",
   "execution_count": null,
   "metadata": {},
   "outputs": [],
   "source": [
    "from compneuro.synapses.gaba_a import GABA_A\n",
    "\n",
    "spike_state = spike_trains[0]\n",
    "c  = np.nan\n",
    "NT = c * spike_state\n",
    "\n",
    "# TODO: link the synapse to HH neuron, simulate over t using Euler's method\n",
    "\n",
    "# syn = GABA_A() \n",
    "# syn_res = syn.solve(...) #use \"Euler\" solver\n",
    "\n",
    "# hh = HodgkinHuxley()"
   ]
  },
  {
   "cell_type": "code",
   "execution_count": null,
   "metadata": {},
   "outputs": [],
   "source": [
    "# TODO: Plot (pls also include the chosed spike train)"
   ]
  },
  {
   "cell_type": "markdown",
   "metadata": {},
   "source": [
    "**TODO:** Does it spike? Why or why not? *(Answer in markdown)*"
   ]
  },
  {
   "cell_type": "markdown",
   "metadata": {},
   "source": [
    "### Step 3. Run Convergent Circuit \n",
    "All synapses provided input to the same output neuron"
   ]
  },
  {
   "cell_type": "code",
   "execution_count": null,
   "metadata": {},
   "outputs": [],
   "source": [
    "# TODO: base your code on the code from Step 2."
   ]
  },
  {
   "cell_type": "code",
   "execution_count": null,
   "metadata": {},
   "outputs": [],
   "source": [
    "# TODO: Plot "
   ]
  },
  {
   "cell_type": "markdown",
   "metadata": {},
   "source": [
    "### Step 4. Reduced PIF "
   ]
  },
  {
   "cell_type": "code",
   "execution_count": null,
   "metadata": {},
   "outputs": [],
   "source": [
    "# TODO: Use synaptic current from the previous step to find the bias current and signal.\n",
    "# TODO: Find the period and PRC of the HH model at the given bias current"
   ]
  },
  {
   "cell_type": "code",
   "execution_count": null,
   "metadata": {},
   "outputs": [],
   "source": [
    "# TODO: Simulate PIF using the PRC found above and the signal deteremined from the synaptic current in Step 3\n",
    "# (use the PIF function you defined in Q1)"
   ]
  },
  {
   "cell_type": "code",
   "execution_count": null,
   "metadata": {},
   "outputs": [],
   "source": [
    "# TODO: Plot"
   ]
  },
  {
   "cell_type": "markdown",
   "metadata": {},
   "source": [
    "**TODO:** Is PIF a good approximation? Why and why not? *(Answer in markdown)*\n",
    "\n",
    "*HINT: think about the difference in the assumption about the input between the standard PIF and the synaptic input used here.*"
   ]
  }
 ],
 "metadata": {
  "kernelspec": {
   "display_name": "Python 3 (ipykernel)",
   "language": "python",
   "name": "python3"
  },
  "language_info": {
   "codemirror_mode": {
    "name": "ipython",
    "version": 3
   },
   "file_extension": ".py",
   "mimetype": "text/x-python",
   "name": "python",
   "nbconvert_exporter": "python",
   "pygments_lexer": "ipython3",
   "version": "3.9.13"
  }
 },
 "nbformat": 4,
 "nbformat_minor": 4
}
